{
 "cells": [
  {
   "cell_type": "code",
   "execution_count": null,
   "metadata": {},
   "outputs": [],
   "source": [
    "from lark import Lark, tree\n",
    "from lark.visitors import CollapseAmbiguities\n",
    "import matplotlib.pyplot as plt"
   ]
  },
  {
   "cell_type": "code",
   "execution_count": null,
   "metadata": {},
   "outputs": [],
   "source": [
    "def plot_trees(grammar:str,  text:str, start='expr'):\n",
    "    parser = Lark(grammar=grammar, start=start,ambiguity='explicit')  \n",
    "    parsed = parser.parse(text)\n",
    "    trees = CollapseAmbiguities().transform(parsed)\n",
    "    for i, t in enumerate(trees):\n",
    "        tree.pydot__tree_to_png(t, filename=f'tree{i}.png', rankdir='TB')\n",
    "        plt.figure(figsize=(8,8))\n",
    "        plt.imshow(plt.imread(f\"tree{i}.png\"))\n",
    "        plt.show()"
   ]
  },
  {
   "cell_type": "markdown",
   "metadata": {},
   "source": [
    "Defining grammar in EBNF notation is fairly simple except one thing - operators priority and associativity. There are a lot of questions in the internet about it. That's why I'm going explain step-by-step how to set operator precendence and associativity for a simple grammar.\n",
    "\n",
    "Motivating example\n",
    "\n",
    "(all examples are written using lark library)\n",
    "\n",
    "Cosider we would like to create a grammar for basic arithmetic operations like 1+2+3, 7/8+9-2. Later we will expand it to support unary operators (eg: -5), exponentiation (eg: 2^3) and parentheses (eg: (1+2)*3)."
   ]
  },
  {
   "cell_type": "code",
   "execution_count": null,
   "metadata": {},
   "outputs": [],
   "source": [
    "grammar = r\"\"\"\n",
    "%import common.NUMBER\n",
    "%import common.WS\n",
    "\n",
    "BINARY_OP: \"+\" | \"-\" | \"*\" | \"/\"\n",
    "!expr : expr BINARY_OP expr\n",
    "    | NUMBER\n",
    "\n",
    "%ignore WS\n",
    "\"\"\""
   ]
  },
  {
   "cell_type": "markdown",
   "metadata": {},
   "source": [
    "The grammar is very simple, we have four operators that can work on two numbers. The expression can be either a single number or a sequence of binary operations. "
   ]
  },
  {
   "cell_type": "code",
   "execution_count": null,
   "metadata": {},
   "outputs": [],
   "source": [
    "plot_trees(grammar, '9/3')"
   ]
  },
  {
   "cell_type": "markdown",
   "metadata": {},
   "source": [
    "But there is a problem. Consider a very simple case: 1+2+3. In fact, our grammar is ambigous and can produce two different results!"
   ]
  },
  {
   "cell_type": "code",
   "execution_count": null,
   "metadata": {},
   "outputs": [],
   "source": [
    "plot_trees(grammar, '1+2+2')"
   ]
  },
  {
   "cell_type": "markdown",
   "metadata": {},
   "source": [
    "First one is equivalent to (1+2)+3=3+3=6, the second one is equivalent to 1+(2+3)=3+3=6. For addition it is not a problem as the result is the same. But, for substraction we have:"
   ]
  },
  {
   "cell_type": "code",
   "execution_count": null,
   "metadata": {},
   "outputs": [],
   "source": [
    "plot_trees(grammar, '1-2-3')"
   ]
  },
  {
   "cell_type": "markdown",
   "metadata": {},
   "source": [
    "The (1-2)-3=-1-3=-4 is not the same as 1-(2-3)=1-(-1)=0!"
   ]
  },
  {
   "cell_type": "markdown",
   "metadata": {},
   "source": [
    "The reason is associativity. For additon a+b+c=(a+b)+c=a+(b+c) but it not the case for substraction. Our current grammar does not define operators associativty so it can be interpreted eiter way. Fortunately, all four operations are left-associative (meaning (a⊗b)⊗c not a⊗(b⊗c) where ⊗ denotes any operator).\n",
    "\n",
    "The fix is simple:"
   ]
  },
  {
   "cell_type": "code",
   "execution_count": null,
   "metadata": {},
   "outputs": [],
   "source": [
    "grammar = r\"\"\"\n",
    "%import common.NUMBER\n",
    "%import common.WS\n",
    "\n",
    "BINARY_OP: \"+\" | \"-\" | \"*\" | \"/\"\n",
    "!expr : expr BINARY_OP NUMBER\n",
    "    | NUMBER\n",
    "\n",
    "%ignore WS\n",
    "\"\"\"\n",
    "plot_trees(grammar, '1-2-3')"
   ]
  },
  {
   "cell_type": "markdown",
   "metadata": {},
   "source": [
    "We control left/right associativity by selecting at wchich side of the operator recursion is performed. If we turn it another way around, operators would be right-associative."
   ]
  },
  {
   "cell_type": "code",
   "execution_count": null,
   "metadata": {},
   "outputs": [],
   "source": [
    "grammar = r\"\"\"\n",
    "%import common.NUMBER\n",
    "%import common.WS\n",
    "\n",
    "BINARY_OP: \"+\" | \"-\" | \"*\" | \"/\"\n",
    "!expr : NUMBER BINARY_OP expr\n",
    "    | NUMBER\n",
    "\n",
    "%ignore WS\n",
    "\"\"\"\n",
    "plot_trees(grammar, '1-2-3')"
   ]
  },
  {
   "cell_type": "markdown",
   "metadata": {},
   "source": [
    "Priority/precendence\n",
    "\n",
    "We solved the first issue, but still priorities are not correct. For example"
   ]
  },
  {
   "cell_type": "code",
   "execution_count": null,
   "metadata": {},
   "outputs": [],
   "source": [
    "grammar = r\"\"\"\n",
    "%import common.NUMBER\n",
    "%import common.WS\n",
    "\n",
    "BINARY_OP: \"+\" | \"-\" | \"*\" | \"/\"\n",
    "!expr : expr BINARY_OP NUMBER\n",
    "    | NUMBER\n",
    "\n",
    "%ignore WS\n",
    "\"\"\"\n",
    "plot_trees(grammar, '1+2*3')"
   ]
  },
  {
   "cell_type": "markdown",
   "metadata": {},
   "source": [
    "Grammar is unambigous but incorrect. Let's try to fix it.\n",
    "\n",
    "For first we need to select how many priority levels we have. For now there are two: */ before +-. For each level we intoduce a separate expression type. As */ needs to be computed before +- we conclude that multiplicative expression should be \"under\" additive. Let's see an example:"
   ]
  },
  {
   "cell_type": "code",
   "execution_count": null,
   "metadata": {},
   "outputs": [],
   "source": [
    "grammar = r\"\"\"\n",
    "%import common.NUMBER\n",
    "%import common.WS\n",
    "\n",
    "ADD_OP: \"+\" | \"-\" \n",
    "MUL_OP: \"*\" | \"/\"\n",
    "\n",
    "!add_expr: add_expr ADD_OP mul_expr\n",
    "    | mul_expr\n",
    "\n",
    "!mul_expr: mul_expr MUL_OP NUMBER\n",
    "    | NUMBER\n",
    "\n",
    "!expr: add_expr\n",
    "\n",
    "%ignore WS\n",
    "\"\"\"\n",
    "plot_trees(grammar, '1+2*3')"
   ]
  },
  {
   "cell_type": "markdown",
   "metadata": {},
   "source": [
    "Starting from the bottom:\n",
    "(me and ae are multiplicative and additive expressions)\n",
    "\n",
    "Multiplicative expression is either\n",
    "1. me */ number\n",
    "2. number\n",
    "\n",
    "It is the same as before - we only limited allowed operators to */.\n",
    "\n",
    "Now, the ad should be computed onto result or mp\n",
    "Additive expression is either:\n",
    "1. ae +- me - recursion at the left (for left-assoc) and mp at the right (because we have already computed me)\n",
    "2. me - in case there are no +- operators\n",
    "\n",
    "The expression now is equivalent to additive expression.\n",
    "\n",
    "You may think it is not going to work for all cases. But it is. Let's see some examples:\n"
   ]
  },
  {
   "cell_type": "code",
   "execution_count": null,
   "metadata": {},
   "outputs": [],
   "source": [
    "plot_trees(grammar, '1+2-3')"
   ]
  },
  {
   "cell_type": "code",
   "execution_count": null,
   "metadata": {},
   "outputs": [],
   "source": [
    "plot_trees(grammar, '1/2+3/4')"
   ]
  },
  {
   "cell_type": "code",
   "execution_count": null,
   "metadata": {},
   "outputs": [],
   "source": [
    "plot_trees(grammar, '1+2*3+4')"
   ]
  },
  {
   "cell_type": "markdown",
   "metadata": {},
   "source": [
    "Exponentiation\n",
    "\n",
    "Now let's apply our knowledge to itroduce exponentiation operator ^. It will be right-associative and has the highest priority."
   ]
  },
  {
   "cell_type": "code",
   "execution_count": null,
   "metadata": {},
   "outputs": [],
   "source": [
    "grammar = r\"\"\"\n",
    "%import common.NUMBER\n",
    "%import common.WS\n",
    "\n",
    "ADD_OP: \"+\" | \"-\" \n",
    "MUL_OP: \"*\" | \"/\"\n",
    "POWER_OP: \"^\"\n",
    "\n",
    "!add_expr: add_expr ADD_OP mul_expr\n",
    "    | mul_expr\n",
    "\n",
    "!mul_expr: mul_expr MUL_OP pow_expr\n",
    "    | pow_expr\n",
    "\n",
    "!pow_expr: NUMBER POWER_OP pow_expr\n",
    "    | NUMBER\n",
    "\n",
    "!expr: add_expr\n",
    "\n",
    "%ignore WS\n",
    "\"\"\""
   ]
  },
  {
   "cell_type": "markdown",
   "metadata": {},
   "source": [
    "I hope you see the pattern here :) Let's try this."
   ]
  },
  {
   "cell_type": "code",
   "execution_count": null,
   "metadata": {},
   "outputs": [],
   "source": [
    "plot_trees(grammar, '1+2^3^4*5')"
   ]
  },
  {
   "cell_type": "markdown",
   "metadata": {},
   "source": [
    "Unary operators\n",
    "\n",
    "It is time to add unary operators. Let's say we support only unary - for expressions like -2+3 or 7*-5.\n",
    "\n",
    "In order to do this, we introduce a new non-terminal: primary. Primary can be either a number or a unary operator followed by number."
   ]
  },
  {
   "cell_type": "code",
   "execution_count": null,
   "metadata": {},
   "outputs": [],
   "source": [
    "grammar = r\"\"\"\n",
    "%import common.NUMBER\n",
    "%import common.WS\n",
    "\n",
    "ADD_OP: \"+\" | \"-\" \n",
    "MUL_OP: \"*\" | \"/\"\n",
    "POWER_OP: \"^\"\n",
    "\n",
    "!add_expr: add_expr ADD_OP mul_expr\n",
    "    | mul_expr\n",
    "\n",
    "!mul_expr: mul_expr MUL_OP pow_expr\n",
    "    | pow_expr\n",
    "\n",
    "!pow_expr: primary POWER_OP pow_expr\n",
    "    | primary\n",
    "\n",
    "!primary: \"-\" NUMBER\n",
    "    | NUMBER\n",
    "\n",
    "!expr: add_expr\n",
    "\n",
    "%ignore WS\n",
    "\"\"\"\n",
    "# plot_trees(grammar, '-2+3')\n",
    "plot_trees(grammar, '7*-5')"
   ]
  },
  {
   "cell_type": "markdown",
   "metadata": {},
   "source": [
    "Parenthesis"
   ]
  },
  {
   "cell_type": "markdown",
   "metadata": {},
   "source": [
    "The last element is parenthesis support. By definition, an expression in parenthesis has the highest priority. It turns out that the implementation is trivial: all we have to do extend the definition of primary to include parenthessed expression."
   ]
  },
  {
   "cell_type": "code",
   "execution_count": null,
   "metadata": {},
   "outputs": [],
   "source": [
    "grammar = r\"\"\"\n",
    "%import common.NUMBER\n",
    "%import common.WS\n",
    "\n",
    "ADD_OP: \"+\" | \"-\" \n",
    "MUL_OP: \"*\" | \"/\"\n",
    "POWER_OP: \"^\"\n",
    "\n",
    "!add_expr: add_expr ADD_OP mul_expr\n",
    "    | mul_expr\n",
    "\n",
    "!mul_expr: mul_expr MUL_OP pow_expr\n",
    "    | pow_expr\n",
    "\n",
    "!pow_expr: primary POWER_OP pow_expr\n",
    "    | primary\n",
    "\n",
    "!primary: \"-\" NUMBER\n",
    "    | NUMBER\n",
    "    | \"(\" expr \")\"\n",
    "\n",
    "!expr: add_expr\n",
    "\n",
    "%ignore WS\n",
    "\"\"\"\n",
    "# plot_trees(grammar, '2*(3-1)')\n",
    "plot_trees(grammar, '((-2)+7)-(3/(4+(-1)))')"
   ]
  },
  {
   "cell_type": "markdown",
   "metadata": {},
   "source": [
    "Closing"
   ]
  },
  {
   "cell_type": "markdown",
   "metadata": {},
   "source": [
    "We covered how to correctly define EBNF grammar for binary expressions with priorities and associativity. We can easily add additional levels of precedence (programming lanugages typically have about 15 of them) by following the same rules."
   ]
  },
  {
   "cell_type": "markdown",
   "metadata": {},
   "source": []
  },
  {
   "cell_type": "markdown",
   "metadata": {},
   "source": []
  }
 ],
 "metadata": {
  "interpreter": {
   "hash": "1a8641c2ecc4861f4ca503267dae7917f6a2093275570e4d3bfa052a047f99a8"
  },
  "kernelspec": {
   "display_name": "Python 3.10.4 ('.venv': venv)",
   "language": "python",
   "name": "python3"
  },
  "language_info": {
   "codemirror_mode": {
    "name": "ipython",
    "version": 3
   },
   "file_extension": ".py",
   "mimetype": "text/x-python",
   "name": "python",
   "nbconvert_exporter": "python",
   "pygments_lexer": "ipython3",
   "version": "3.10.4"
  },
  "orig_nbformat": 4
 },
 "nbformat": 4,
 "nbformat_minor": 2
}
